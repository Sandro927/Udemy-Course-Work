{
 "cells": [
  {
   "cell_type": "code",
   "execution_count": 7,
   "metadata": {},
   "outputs": [],
   "source": [
    "import math\n",
    "\n",
    "class Line:\n",
    "    def __init__(self, coor1, coor2):\n",
    "        self.coordinate1=coor1\n",
    "        self.coordinate2=coor2\n",
    "    \n",
    "    def distance(self):\n",
    "        dist=math.sqrt(pow((coordinate1[0]-coordinate2[0]),2) + pow((coordinate1[1]-coordinate2[1]),2))\n",
    "        print(dist)\n",
    "    \n",
    "    def slope(self):\n",
    "        lineSlope=(coordinate2[1]-coordinate1[1])/(coordinate2[0]-coordinate1[0])\n",
    "        print(lineSlope)\n",
    "    \n"
   ]
  },
  {
   "cell_type": "code",
   "execution_count": 8,
   "metadata": {},
   "outputs": [],
   "source": [
    "coordinate1 = (3,2)\n",
    "coordinate2 = (8,10)\n",
    "\n",
    "li = Line(coordinate1,coordinate2)"
   ]
  },
  {
   "cell_type": "code",
   "execution_count": 9,
   "metadata": {},
   "outputs": [
    {
     "name": "stdout",
     "output_type": "stream",
     "text": [
      "9.433981132056603\n",
      "1.6\n"
     ]
    }
   ],
   "source": [
    "li.distance()\n",
    "li.slope()"
   ]
  },
  {
   "cell_type": "code",
   "execution_count": 22,
   "metadata": {},
   "outputs": [],
   "source": [
    "class Cylinder:\n",
    "    \n",
    "    def __init__(self,height=1,radius=1):\n",
    "       \n",
    "        if(height==1):\n",
    "            self.cylHeight=1\n",
    "        else:\n",
    "            self.cylHeight=height\n",
    "        if(radius==1):\n",
    "            self.cylRad=1\n",
    "        else:\n",
    "            self.cylRad=radius\n",
    "        \n",
    "    def volume(self):\n",
    "        cylVolume=(math.pi*self.cylHeight*(self.cylRad**2))\n",
    "        print(cylVolume)\n",
    "    \n",
    "    def surface_area(self):\n",
    "        cylSurface=(2*math.pi*self.cylRad*self.cylHeight)+(2*math.pi*(self.cylRad**2))\n",
    "        print(cylSurface)"
   ]
  },
  {
   "cell_type": "code",
   "execution_count": 23,
   "metadata": {},
   "outputs": [
    {
     "name": "stdout",
     "output_type": "stream",
     "text": [
      "56.548667764616276\n",
      "94.24777960769379\n"
     ]
    }
   ],
   "source": [
    "c = Cylinder(2,3)\n",
    "c.volume()\n",
    "c.surface_area()"
   ]
  },
  {
   "cell_type": "code",
   "execution_count": null,
   "metadata": {},
   "outputs": [],
   "source": []
  }
 ],
 "metadata": {
  "kernelspec": {
   "display_name": "Python 3",
   "language": "python",
   "name": "python3"
  },
  "language_info": {
   "codemirror_mode": {
    "name": "ipython",
    "version": 3
   },
   "file_extension": ".py",
   "mimetype": "text/x-python",
   "name": "python",
   "nbconvert_exporter": "python",
   "pygments_lexer": "ipython3",
   "version": "3.8.5"
  }
 },
 "nbformat": 4,
 "nbformat_minor": 4
}
